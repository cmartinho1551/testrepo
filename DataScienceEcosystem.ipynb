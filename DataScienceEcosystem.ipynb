{
 "cells": [
  {
   "cell_type": "markdown",
   "id": "87d15c43",
   "metadata": {},
   "source": [
    "# Data Science Tools and Ecosystem"
   ]
  },
  {
   "cell_type": "markdown",
   "id": "9129a7ef",
   "metadata": {},
   "source": [
    "In this notebook, Data Science Tools and Ecosystem are summarized."
   ]
  },
  {
   "cell_type": "markdown",
   "id": "294c76fe",
   "metadata": {},
   "source": [
    "Some of the popular languages that Data Scientists use are:\n",
    "\n",
    "1. Python\n",
    "2. SQL\n",
    "3. R\n",
    "4. Java\n",
    "5. Julia"
   ]
  },
  {
   "cell_type": "markdown",
   "id": "c696407b",
   "metadata": {},
   "source": [
    "Some of the commonly used libraries used by Data Scientists include:\n",
    "\n",
    "1. NumPy\n",
    "2. TensorFlow\n",
    "3. Matplotlib\n",
    "4. Apache Spark\n",
    "5. Pandas"
   ]
  },
  {
   "cell_type": "markdown",
   "id": "7157e2cd",
   "metadata": {},
   "source": [
    "|Data Science Tools|\n",
    "------------------------\n",
    "|Jupyter Notebooks|\n",
    "|Jupyter Lab|\n",
    "|R Studio|"
   ]
  },
  {
   "cell_type": "markdown",
   "id": "105ad386",
   "metadata": {},
   "source": [
    "### Below are a few examples of evaluating arithmetic expressions in Python"
   ]
  },
  {
   "cell_type": "code",
   "execution_count": 6,
   "id": "a0a5e25b",
   "metadata": {},
   "outputs": [
    {
     "data": {
      "text/plain": [
       "17"
      ]
     },
     "execution_count": 6,
     "metadata": {},
     "output_type": "execute_result"
    }
   ],
   "source": [
    "(3*4)+5\n",
    "\n",
    "#This a simple arithmetic expression to mutiply then add integers"
   ]
  },
  {
   "cell_type": "code",
   "execution_count": 8,
   "id": "ac5e92a0",
   "metadata": {},
   "outputs": [
    {
     "data": {
      "text/plain": [
       "3.3333333333333335"
      ]
     },
     "execution_count": 8,
     "metadata": {},
     "output_type": "execute_result"
    }
   ],
   "source": [
    "#This will convert 200 minutes to hours by diving by 60\n",
    "\n",
    "200/60"
   ]
  },
  {
   "cell_type": "markdown",
   "id": "99635427",
   "metadata": {},
   "source": [
    "**Objectives:**\n",
    "- List popular languages for Data Science\n",
    "- List commonly used libraries\n",
    "- List popular Data Science Tools"
   ]
  },
  {
   "cell_type": "markdown",
   "id": "cd2c445c",
   "metadata": {},
   "source": [
    "## Autor\n",
    "\n",
    "Catarina Martinho"
   ]
  }
 ],
 "metadata": {
  "kernelspec": {
   "display_name": "Python 3 (ipykernel)",
   "language": "python",
   "name": "python3"
  },
  "language_info": {
   "codemirror_mode": {
    "name": "ipython",
    "version": 3
   },
   "file_extension": ".py",
   "mimetype": "text/x-python",
   "name": "python",
   "nbconvert_exporter": "python",
   "pygments_lexer": "ipython3",
   "version": "3.11.5"
  }
 },
 "nbformat": 4,
 "nbformat_minor": 5
}
